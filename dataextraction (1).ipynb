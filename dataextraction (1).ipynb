{
 "cells": [
  {
   "cell_type": "markdown",
   "metadata": {},
   "source": [
    "# for recepits which has date on it"
   ]
  },
  {
   "cell_type": "code",
   "execution_count": 12,
   "metadata": {},
   "outputs": [
    {
     "name": "stdout",
     "output_type": "stream",
     "text": [
      "a»\n",
      "OG\n",
      "\n",
      "ilann va! Visors\n",
      "\n",
      "   \n",
      "\n",
      "© E\n",
      "\n",
      "Bhurat\n",
      "\n",
      "UDAYA FILLING STATION\n",
      "\n",
      "MATTUPATTY ROAD\n",
      "\n",
      "MUNNAR\n",
      "\n",
      "04865230318\n",
      "ORIGINAL\n",
      "\n",
      "Dk DD Da DB OAC eB a a DD a Ot On\n",
      "\n",
      "29-MAY -2019 14:02:23\n",
      "INVOICE NO; 292\n",
      "VEHICLE NO: NOT ENTERED\n",
      "\n",
      "NOZZLE NO : 1\n",
      "\n",
      "PRODUCT: PETROL\n",
      "\n",
      "RATE : 75.01 INR/Ltr\n",
      "VOUUMES 1. S30 Lte\n",
      "AMOUNT: 100.00 INR\n",
      "\n",
      "Pek DE DI DE DDE 2 DNC DD co DD 3 DE BC DE DC I I\n",
      "\n",
      "S.T..No : 27430268741C\n",
      "M.S.T. No: 27430268741V\n",
      "\n",
      "pe EE SE ETAL CT a DH OC I I OC IE DE a\n",
      "\n",
      "Thank You! Visit Again\n",
      "\n",
      " \n",
      "\n",
      "4\n",
      "4\n",
      "a\n",
      "\n",
      "|\n",
      "A\n"
     ]
    }
   ],
   "source": [
    "from PIL import Image\n",
    "import pytesseract\n",
    "#pytesseract.pytesseract.tesseract_cmd = 'C:\\\\Program Files (x86)\\\\Tesseract-OCR\\\\tesseract.exe'\n",
    "pytesseract.pytesseract.tesseract_cmd ='C:\\\\Program Files\\\\Tesseract-OCR\\\\tesseract.exe'\n",
    "#pytesseract.pytesseract.TesseractNotFoundError: C:\\Program Files (x86)\\Tesseract-OCR\\tesseract.exe\n",
    "im=Image.open(\"r.jpeg\")\n",
    "text=pytesseract.image_to_string(im,lang='eng')\n",
    "print(text)"
   ]
  },
  {
   "cell_type": "code",
   "execution_count": 3,
   "metadata": {},
   "outputs": [],
   "source": [
    "from dateparser.search import search_dates\n",
    "dates = search_dates(text)"
   ]
  },
  {
   "cell_type": "code",
   "execution_count": 5,
   "metadata": {},
   "outputs": [
    {
     "data": {
      "text/plain": [
       "[('04865230318', datetime.datetime(1985, 6, 2, 6, 47, 11)),\n",
       " ('Dk', datetime.datetime(1985, 6, 2, 0, 0)),\n",
       " ('29-MAY -2019 14:02:23', datetime.datetime(2019, 5, 29, 14, 2, 23)),\n",
       " ('292', datetime.datetime(1900, 1, 1, 2, 9, 2)),\n",
       " ('100', datetime.datetime(1900, 1, 1, 1, 0)),\n",
       " ('OC', datetime.datetime(1900, 1, 1, 0, 0)),\n",
       " ('OC', datetime.datetime(1900, 1, 1, 0, 0))]"
      ]
     },
     "execution_count": 5,
     "metadata": {},
     "output_type": "execute_result"
    }
   ],
   "source": [
    "dates"
   ]
  },
  {
   "cell_type": "code",
   "execution_count": 15,
   "metadata": {},
   "outputs": [
    {
     "data": {
      "text/plain": [
       "[datetime.datetime(2019, 1, 4, 0, 0, tzinfo=<UTC>),\n",
       " datetime.datetime(2001, 7, 5, 0, 0, tzinfo=<UTC>),\n",
       " datetime.datetime(1930, 1, 1, 0, 0, tzinfo=<UTC>)]"
      ]
     },
     "execution_count": 15,
     "metadata": {},
     "output_type": "execute_result"
    }
   ],
   "source": [
    "from date_extractor import extract_dates\n",
    "dates = extract_dates(text)\n",
    "dates"
   ]
  },
  {
   "cell_type": "code",
   "execution_count": 25,
   "metadata": {},
   "outputs": [
    {
     "name": "stdout",
     "output_type": "stream",
     "text": [
      "2019-01-04\n",
      "2019-01-04\n",
      "2019-01-04\n"
     ]
    }
   ],
   "source": [
    "if dates == []:\n",
    "    print(\"{“date”: null}\")\n",
    "else:\n",
    "    #extracting the Expense date from all the dates\n",
    "    extract_date = []\n",
    "    correct = []\n",
    "    for i in dates:\n",
    "      if i:\n",
    "        Expense_date = i.strftime('%Y-%m-%d')\n",
    "        extract_date.append(Expense_date)\n",
    "        correct.append(max(extract_date))\n",
    "        print(max(extract_date))"
   ]
  },
  {
   "cell_type": "code",
   "execution_count": 28,
   "metadata": {},
   "outputs": [],
   "source": [
    "import pandas as pd \n",
    "dfObj = pd.DataFrame(correct,columns = ['Date']) "
   ]
  },
  {
   "cell_type": "code",
   "execution_count": 31,
   "metadata": {},
   "outputs": [],
   "source": [
    "dfObj = dfObj.drop_duplicates(subset=['Date'])"
   ]
  },
  {
   "cell_type": "code",
   "execution_count": 32,
   "metadata": {},
   "outputs": [
    {
     "data": {
      "text/html": [
       "<div>\n",
       "<style scoped>\n",
       "    .dataframe tbody tr th:only-of-type {\n",
       "        vertical-align: middle;\n",
       "    }\n",
       "\n",
       "    .dataframe tbody tr th {\n",
       "        vertical-align: top;\n",
       "    }\n",
       "\n",
       "    .dataframe thead th {\n",
       "        text-align: right;\n",
       "    }\n",
       "</style>\n",
       "<table border=\"1\" class=\"dataframe\">\n",
       "  <thead>\n",
       "    <tr style=\"text-align: right;\">\n",
       "      <th></th>\n",
       "      <th>Date</th>\n",
       "    </tr>\n",
       "  </thead>\n",
       "  <tbody>\n",
       "    <tr>\n",
       "      <th>0</th>\n",
       "      <td>2019-01-04</td>\n",
       "    </tr>\n",
       "  </tbody>\n",
       "</table>\n",
       "</div>"
      ],
      "text/plain": [
       "         Date\n",
       "0  2019-01-04"
      ]
     },
     "execution_count": 32,
     "metadata": {},
     "output_type": "execute_result"
    }
   ],
   "source": [
    "dfObj"
   ]
  },
  {
   "cell_type": "markdown",
   "metadata": {},
   "source": [
    "# with out date"
   ]
  },
  {
   "cell_type": "code",
   "execution_count": 45,
   "metadata": {},
   "outputs": [
    {
     "name": "stdout",
     "output_type": "stream",
     "text": [
      "Golden Coin\n",
      "94-450 Ukee St\n",
      "\n",
      "Waipahu, HI 96797\n",
      "(808) 848-0802\n",
      "\n",
      "Server: Charito\n",
      "Order #: 6879\n",
      "\n",
      "| >> SETTLED «\n",
      "1 Plt Lunch 2 Choices\n",
      "\n",
      "BBO\n",
      "PINAPATTAN\n",
      "\n",
      "sBar Subtota\n",
      "Bod Subtotal:\n",
      "\\;\n",
      "\n",
      " \n",
      "\n",
      "0\n",
      "3\n",
      "\n",
      "tation: |\n",
      "\n",
      "Take Out\n"
     ]
    }
   ],
   "source": [
    "from PIL import Image\n",
    "import pytesseract\n",
    "#pytesseract.pytesseract.tesseract_cmd = 'C:\\\\Program Files (x86)\\\\Tesseract-OCR\\\\tesseract.exe'\n",
    "pytesseract.pytesseract.tesseract_cmd ='C:\\\\Program Files\\\\Tesseract-OCR\\\\tesseract.exe'\n",
    "#pytesseract.pytesseract.TesseractNotFoundError: C:\\Program Files (x86)\\Tesseract-OCR\\tesseract.exe\n",
    "im=Image.open(\"c.jpeg\")\n",
    "text=pytesseract.image_to_string(im,lang='eng')\n",
    "print(text)"
   ]
  },
  {
   "cell_type": "code",
   "execution_count": 50,
   "metadata": {},
   "outputs": [
    {
     "data": {
      "text/plain": [
       "[('96797', datetime.datetime(1979, 9, 6, 7, 0)),\n",
       " ('808', datetime.datetime(1900, 1, 1, 8, 0, 8)),\n",
       " ('6879', datetime.datetime(6879, 1, 1, 0, 0)),\n",
       " ('Out', datetime.datetime(6879, 10, 1, 0, 0))]"
      ]
     },
     "execution_count": 50,
     "metadata": {},
     "output_type": "execute_result"
    }
   ],
   "source": [
    "from dateparser.search import search_dates\n",
    "dates = search_dates(text)\n",
    "dates"
   ]
  },
  {
   "cell_type": "code",
   "execution_count": 55,
   "metadata": {},
   "outputs": [
    {
     "data": {
      "text/plain": [
       "[datetime.datetime(1945, 4, 9, 0, 0, tzinfo=<UTC>),\n",
       " datetime.datetime(2008, 8, 1, 0, 0, tzinfo=<UTC>)]"
      ]
     },
     "execution_count": 55,
     "metadata": {},
     "output_type": "execute_result"
    }
   ],
   "source": [
    "from date_extractor import extract_dates\n",
    "dates = extract_dates(text)\n",
    "dates"
   ]
  },
  {
   "cell_type": "code",
   "execution_count": 64,
   "metadata": {},
   "outputs": [
    {
     "name": "stdout",
     "output_type": "stream",
     "text": [
      "1945-04-09\n",
      "The Expense date on the receipt is 1945-04-09\n",
      "2008-08-01\n",
      "The Expense date on the receipt is 2008-08-01\n"
     ]
    }
   ],
   "source": [
    "if dates == []:\n",
    "    print(\"{“date”: null}\")\n",
    "else:\n",
    "    extract_date = []\n",
    "    for i in dates:\n",
    "      if i:\n",
    "        Expense_date = i.strftime('%Y-%m-%d')\n",
    "        extract_date.append(Expense_date)\n",
    "    \n",
    "        print(max(extract_date))\n",
    "        print('The Expense date on the receipt is',max(extract_date))"
   ]
  },
  {
   "cell_type": "code",
   "execution_count": 42,
   "metadata": {},
   "outputs": [],
   "source": [
    "import pandas as pd \n",
    "dfObj = pd.DataFrame(correct,columns = ['Date']) "
   ]
  },
  {
   "cell_type": "code",
   "execution_count": 43,
   "metadata": {},
   "outputs": [],
   "source": [
    "dfObj = dfObj.drop_duplicates(subset=['Date'])"
   ]
  },
  {
   "cell_type": "code",
   "execution_count": 44,
   "metadata": {},
   "outputs": [
    {
     "data": {
      "text/html": [
       "<div>\n",
       "<style scoped>\n",
       "    .dataframe tbody tr th:only-of-type {\n",
       "        vertical-align: middle;\n",
       "    }\n",
       "\n",
       "    .dataframe tbody tr th {\n",
       "        vertical-align: top;\n",
       "    }\n",
       "\n",
       "    .dataframe thead th {\n",
       "        text-align: right;\n",
       "    }\n",
       "</style>\n",
       "<table border=\"1\" class=\"dataframe\">\n",
       "  <thead>\n",
       "    <tr style=\"text-align: right;\">\n",
       "      <th></th>\n",
       "      <th>Date</th>\n",
       "    </tr>\n",
       "  </thead>\n",
       "  <tbody>\n",
       "    <tr>\n",
       "      <th>0</th>\n",
       "      <td>1945-04-09</td>\n",
       "    </tr>\n",
       "    <tr>\n",
       "      <th>1</th>\n",
       "      <td>2008-08-01</td>\n",
       "    </tr>\n",
       "  </tbody>\n",
       "</table>\n",
       "</div>"
      ],
      "text/plain": [
       "         Date\n",
       "0  1945-04-09\n",
       "1  2008-08-01"
      ]
     },
     "execution_count": 44,
     "metadata": {},
     "output_type": "execute_result"
    }
   ],
   "source": [
    "dfObj"
   ]
  },
  {
   "cell_type": "markdown",
   "metadata": {},
   "source": [
    "### failed to execute the needs there might be some noise"
   ]
  },
  {
   "cell_type": "code",
   "execution_count": 112,
   "metadata": {},
   "outputs": [],
   "source": [
    "import cv2\n",
    "import numpy as np\n",
    "import pytesseract\n",
    "from PIL import Image"
   ]
  },
  {
   "cell_type": "code",
   "execution_count": 113,
   "metadata": {},
   "outputs": [],
   "source": [
    "import cv2\n",
    "img = cv2.imread(\"c.jpeg\")\n",
    "imgGray = cv2.cvtColor(img, cv2.COLOR_BGR2GRAY)"
   ]
  },
  {
   "cell_type": "code",
   "execution_count": 114,
   "metadata": {},
   "outputs": [],
   "source": [
    "kernel = np.ones((1, 1), np.uint8)\n",
    "imgGray = cv2.dilate(imgGray, kernel, iterations=1)\n",
    "imgGray = cv2.erode(imgGray, kernel, iterations=1)"
   ]
  },
  {
   "cell_type": "code",
   "execution_count": 115,
   "metadata": {},
   "outputs": [
    {
     "data": {
      "text/plain": [
       "True"
      ]
     },
     "execution_count": 115,
     "metadata": {},
     "output_type": "execute_result"
    }
   ],
   "source": [
    "cv2.imwrite(\"removed_noise.png\", imgGray)"
   ]
  },
  {
   "cell_type": "code",
   "execution_count": 116,
   "metadata": {},
   "outputs": [
    {
     "data": {
      "text/plain": [
       "True"
      ]
     },
     "execution_count": 116,
     "metadata": {},
     "output_type": "execute_result"
    }
   ],
   "source": [
    "#img = cv2.adaptiveThreshold(img, 255, cv2.ADAPTIVE_THRESH_GAUSSIAN_C, cv2.THRESH_BINARY, 31, 2)\n",
    "\n",
    "    # Write the image after apply opencv to do some ...\n",
    "cv2.imwrite(\"thres.png\", img)"
   ]
  },
  {
   "cell_type": "code",
   "execution_count": 142,
   "metadata": {},
   "outputs": [],
   "source": [
    "result = pytesseract.image_to_string(Image.open(\"thres.png\"))"
   ]
  },
  {
   "cell_type": "code",
   "execution_count": 145,
   "metadata": {},
   "outputs": [
    {
     "name": "stdout",
     "output_type": "stream",
     "text": [
      "Golden Coin.\n",
      "94-450 Ukee St\n",
      "Waipahu, HI 96797\n",
      "(808) 848-0802\n",
      "\n",
      "Server: Charito\n",
      "Order #: 6879\n",
      "\n",
      "»» SETTLED «\n",
      "\n",
      "1 Pit Lunch 2 Choices\n",
      "BBQ\n",
      "PINAPALTAN\n",
      "\n",
      "Bar Subtotal:\n",
      "Bod Subtotal:\n",
      "mo:\n",
      "\n",
      "    \n",
      "\n",
      "Station:\n",
      "\n",
      "Take Gu\n",
      "\n",
      "9.79\n",
      "\n",
      "Swo\n",
      "Br\n",
      "\n",
      "|\n",
      "\n",
      "rt\n",
      "\n",
      "SS\n",
      "\n",
      "46\n",
      "\n",
      " \n",
      "\n",
      " \n",
      "\n",
      "15.00\n"
     ]
    }
   ],
   "source": [
    "print(result)"
   ]
  },
  {
   "cell_type": "code",
   "execution_count": 149,
   "metadata": {},
   "outputs": [
    {
     "data": {
      "text/plain": [
       "[datetime.datetime(1945, 4, 9, 0, 0, tzinfo=<UTC>),\n",
       " datetime.datetime(2008, 8, 1, 0, 0, tzinfo=<UTC>),\n",
       " datetime.datetime(1979, 9, 1, 0, 0, tzinfo=<UTC>),\n",
       " datetime.datetime(1946, 1, 1, 0, 0, tzinfo=<UTC>),\n",
       " None]"
      ]
     },
     "execution_count": 149,
     "metadata": {},
     "output_type": "execute_result"
    }
   ],
   "source": [
    "from date_extractor import extract_dates\n",
    "dates = extract_dates(result)\n",
    "dates"
   ]
  },
  {
   "cell_type": "code",
   "execution_count": 151,
   "metadata": {},
   "outputs": [
    {
     "name": "stdout",
     "output_type": "stream",
     "text": [
      "1945-04-09\n",
      "2008-08-01\n",
      "2008-08-01\n",
      "2008-08-01\n"
     ]
    }
   ],
   "source": [
    "if dates == None:\n",
    "    print(\"null\")\n",
    "else:\n",
    "    #extracting the Expense date from all the dates\n",
    "    extract_date = []\n",
    "    correct = []\n",
    "    for i in dates:\n",
    "      if i:\n",
    "        Expense_date = i.strftime('%Y-%m-%d')\n",
    "        extract_date.append(Expense_date)\n",
    "        correct.append(max(extract_date))\n",
    "        print(max(extract_date))"
   ]
  },
  {
   "cell_type": "code",
   "execution_count": null,
   "metadata": {},
   "outputs": [],
   "source": [
    "#Using datefinder"
   ]
  },
  {
   "cell_type": "code",
   "execution_count": 153,
   "metadata": {},
   "outputs": [
    {
     "name": "stdout",
     "output_type": "stream",
     "text": [
      "0808-11-23 00:00:00\n",
      "6879-11-23 00:00:00\n",
      "2019-11-01 00:00:00\n",
      "2019-11-02 00:00:00\n",
      "2019-11-09 00:00:00\n"
     ]
    }
   ],
   "source": [
    "import datefinder\n",
    "matches = datefinder.find_dates(result)\n",
    "for match in matches:\n",
    "    print(match)"
   ]
  },
  {
   "cell_type": "code",
   "execution_count": null,
   "metadata": {},
   "outputs": [],
   "source": [
    "# yet not getting correct date"
   ]
  }
 ],
 "metadata": {
  "kernelspec": {
   "display_name": "Python 3",
   "language": "python",
   "name": "python3"
  },
  "language_info": {
   "codemirror_mode": {
    "name": "ipython",
    "version": 3
   },
   "file_extension": ".py",
   "mimetype": "text/x-python",
   "name": "python",
   "nbconvert_exporter": "python",
   "pygments_lexer": "ipython3",
   "version": "3.7.0"
  }
 },
 "nbformat": 4,
 "nbformat_minor": 2
}
